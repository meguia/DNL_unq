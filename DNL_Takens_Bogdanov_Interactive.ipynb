{
 "cells": [
  {
   "cell_type": "code",
   "execution_count": 1,
   "id": "046188c9",
   "metadata": {
    "ExecuteTime": {
     "end_time": "2021-06-23T23:04:13.720570Z",
     "start_time": "2021-06-23T23:04:13.232875Z"
    }
   },
   "outputs": [],
   "source": [
    "import matplotlib.pyplot as plt\n",
    "import numpy as np\n",
    "from ipywidgets import interact,interactive, interact_manual"
   ]
  },
  {
   "cell_type": "code",
   "execution_count": 2,
   "id": "355795dd",
   "metadata": {},
   "outputs": [
    {
     "name": "stdout",
     "output_type": "stream",
     "text": [
      "No en Colab\n"
     ]
    }
   ],
   "source": [
    "try:  \n",
    "    from google.colab import drive\n",
    "    import sys\n",
    "    drive.mount('/content/drive')\n",
    "    ### ATENCION MUY IMPORTANTE CAMBIAR ESTA RUTA PARA QUE SEA IGUAL QUE LA QUE TIENEN EN SU DRIVE, a partir de MyDrive/\n",
    "    sys.path.append('/content/drive/MyDrive/DNL_unq')\n",
    "except:\n",
    "    print(\"No en Colab\")    \n",
    "from putils import *    "
   ]
  },
  {
   "cell_type": "code",
   "execution_count": 3,
   "id": "57518e44",
   "metadata": {
    "ExecuteTime": {
     "end_time": "2021-06-23T23:04:13.766448Z",
     "start_time": "2021-06-23T23:04:13.752485Z"
    }
   },
   "outputs": [],
   "source": [
    "def takens(t, x, A, B):\n",
    "    return [\n",
    "        x[1],\n",
    "        -A-B*x[0]-x[0]*(x[1]*(x[0]+1)+x[0]*(x[0]-1)),\n",
    "    ]\n"
   ]
  },
  {
   "cell_type": "code",
   "execution_count": 4,
   "id": "0f2b2241",
   "metadata": {
    "ExecuteTime": {
     "end_time": "2021-06-23T23:04:18.274325Z",
     "start_time": "2021-06-23T23:04:18.264327Z"
    }
   },
   "outputs": [],
   "source": [
    "# armamos trayectoria partiendo de (x0, x1)\n",
    "def solve_takens(A,B,x0,x1,Tmax):\n",
    "    dt = 0.2\n",
    "    t = np.arange(0, Tmax, dt)\n",
    "    xini = [x0, x1]\n",
    "    x = solve(takens, t, xini, args=(A, B), method='RK45')\n",
    "    plot2D_labels(t,x,'A = ' + str(A) + ', B = ' + str(B))"
   ]
  },
  {
   "cell_type": "code",
   "execution_count": 5,
   "id": "10b8f976",
   "metadata": {
    "ExecuteTime": {
     "end_time": "2021-06-23T23:04:20.569017Z",
     "start_time": "2021-06-23T23:04:20.553060Z"
    }
   },
   "outputs": [],
   "source": [
    "# Calculo de las saddle node\n",
    "def saddle_node_takens(b):\n",
    "    x1 = (1+np.sqrt(1-3*b))/3\n",
    "    x2 = (1-np.sqrt(1-3*b))/3\n",
    "    a1 = x1*(-b+x1*(1-x1))\n",
    "    a2 = x2*(-b+x2*(1-x2))\n",
    "    return a1,a2"
   ]
  },
  {
   "cell_type": "code",
   "execution_count": 6,
   "id": "2a727164",
   "metadata": {
    "ExecuteTime": {
     "end_time": "2021-06-23T23:04:25.428619Z",
     "start_time": "2021-06-23T23:04:25.321400Z"
    }
   },
   "outputs": [
    {
     "data": {
      "text/plain": [
       "[<matplotlib.lines.Line2D at 0x1e549879d60>]"
      ]
     },
     "execution_count": 6,
     "metadata": {},
     "output_type": "execute_result"
    },
    {
     "data": {
      "image/png": "[encoded data removed]",
      "text/plain": [
       "<Figure size 432x288 with 1 Axes>"
      ]
     },
     "metadata": {
      "needs_background": "light"
     },
     "output_type": "display_data"
    }
   ],
   "source": [
    "# Hopf\n",
    "b0 = np.arange(-0.1,0.4,0.01)\n",
    "a0 = b0*0\n",
    "# Saddle Node\n",
    "b = np.arange(-0.1,0.333,0.001)\n",
    "a1,a2 = saddle_node_takens(b)\n",
    "plt.plot(a1,b)\n",
    "plt.plot(a2,b)\n",
    "plt.plot(a0,b0)"
   ]
  },
  {
   "cell_type": "code",
   "execution_count": 7,
   "id": "e27bf4b9",
   "metadata": {
    "ExecuteTime": {
     "end_time": "2021-06-23T23:04:35.154779Z",
     "start_time": "2021-06-23T23:04:34.609239Z"
    }
   },
   "outputs": [
    {
     "data": {
      "application/vnd.jupyter.widget-view+json": {
       "model_id": "0f84765fb29449deb037fa0fdf422e59",
       "version_major": 2,
       "version_minor": 0
      },
      "text/plain": [
       "interactive(children=(FloatSlider(value=0.17500000000000002, description='A', max=0.5, min=-0.15, step=0.001),…"
      ]
     },
     "metadata": {},
     "output_type": "display_data"
    }
   ],
   "source": [
    "iplot = interactive(solve_takens,\n",
    "                    A=(-0.15,0.5,0.001),\n",
    "                    B=(-0.15,0.35,0.001),\n",
    "                    x0=(-1,1,0.01),\n",
    "                    x1=(-1,1,0.01),\n",
    "                    Tmax=(10,300,10),\n",
    "                    continuous_update=False)\n",
    "iplot"
   ]
  },
  {
   "cell_type": "code",
   "execution_count": 8,
   "id": "9f37be5f",
   "metadata": {
    "ExecuteTime": {
     "end_time": "2021-06-23T23:04:42.198634Z",
     "start_time": "2021-06-23T23:04:42.185063Z"
    }
   },
   "outputs": [],
   "source": [
    "def takens_onoff(t, x, A, B, W):\n",
    "    return [\n",
    "        x[1],\n",
    "        -x[2]-x[3]*x[0]-x[0]*(x[1]*(x[0]+1)+x[0]*(x[0]-1)),\n",
    "        (x[3]-B),\n",
    "        -W*(x[2]-A),\n",
    "    ]\n"
   ]
  },
  {
   "cell_type": "code",
   "execution_count": 9,
   "id": "9bc8e335",
   "metadata": {
    "ExecuteTime": {
     "end_time": "2021-06-23T23:04:46.520410Z",
     "start_time": "2021-06-23T23:04:46.512398Z"
    }
   },
   "outputs": [],
   "source": [
    "def solve_takens_onoff(A,B,C,W,x0,x1,Tmax):\n",
    "    dt = 0.2\n",
    "    t = np.arange(0, Tmax, dt)\n",
    "    xini = [x0, x1, A+C, B]\n",
    "    x = solve(takens_onoff, t, xini, args=(A,B,W), method='RK45')\n",
    "    label = 'A = ' + str(A) + ', B = ' + str(B) + 'C = ' + str(C) + ', W = ' + str(W)\n",
    "    ranges = np.array([[[-1.2,1.2],[-1,1]],[[-0.2,0.3],[-0.1,0.4]]])\n",
    "    b0 = np.arange(-0.1,0.4,0.01)\n",
    "    a0 = b0*0\n",
    "    b = np.arange(-0.1,0.333,0.001)\n",
    "    a1,a2 = saddle_node_takens(b)\n",
    "    curves = [[a0,b0],[a1,b],[a2,b]]\n",
    "    plot4D_labels(t,x,label,ranges,curves)"
   ]
  },
  {
   "cell_type": "code",
   "execution_count": 10,
   "id": "a964ea51",
   "metadata": {
    "ExecuteTime": {
     "end_time": "2021-06-23T23:04:51.280136Z",
     "start_time": "2021-06-23T23:04:51.216306Z"
    }
   },
   "outputs": [
    {
     "data": {
      "application/vnd.jupyter.widget-view+json": {
       "model_id": "d801230a5abc4ca1a9e79820a7c3d88c",
       "version_major": 2,
       "version_minor": 0
      },
      "text/plain": [
       "interactive(children=(FloatSlider(value=0.07400000000000001, description='A', max=0.3, min=-0.15, step=0.001),…"
      ]
     },
     "metadata": {},
     "output_type": "display_data"
    },
    {
     "data": {
      "text/plain": [
       "<function __main__.solve_takens_onoff(A, B, C, W, x0, x1, Tmax)>"
      ]
     },
     "execution_count": 10,
     "metadata": {},
     "output_type": "execute_result"
    }
   ],
   "source": [
    "interact_manual(solve_takens_onoff,\n",
    "                    A=(-0.15,0.3,0.001),\n",
    "                    B=(-0.15,0.4,0.002),\n",
    "                    C=(0,0.1,0.001),\n",
    "                    W=(0,0.1,0.0001), \n",
    "                    x0=(-1,1,0.01),\n",
    "                    x1=(-1,1,0.01),\n",
    "                    Tmax=(10,1000,10))"
   ]
  }
 ],
 "metadata": {
  "kernelspec": {
   "display_name": "Python 3",
   "language": "python",
   "name": "python3"
  },
  "language_info": {
   "codemirror_mode": {
    "name": "ipython",
    "version": 3
   },
   "file_extension": ".py",
   "mimetype": "text/x-python",
   "name": "python",
   "nbconvert_exporter": "python",
   "pygments_lexer": "ipython3",
   "version": "3.8.8"
  },
  "toc": {
   "base_numbering": 1,
   "nav_menu": {},
   "number_sections": true,
   "sideBar": true,
   "skip_h1_title": false,
   "title_cell": "Table of Contents",
   "title_sidebar": "Contents",
   "toc_cell": false,
   "toc_position": {},
   "toc_section_display": true,
   "toc_window_display": false
  },
  "varInspector": {
   "cols": {
    "lenName": 16,
    "lenType": 16,
    "lenVar": 40
   },
   "kernels_config": {
    "python": {
     "delete_cmd_postfix": "",
     "delete_cmd_prefix": "del ",
     "library": "var_list.py",
     "varRefreshCmd": "print(var_dic_list())"
    },
    "r": {
     "delete_cmd_postfix": ") ",
     "delete_cmd_prefix": "rm(",
     "library": "var_list.r",
     "varRefreshCmd": "cat(var_dic_list()) "
    }
   },
   "types_to_exclude": [
    "module",
    "function",
    "builtin_function_or_method",
    "instance",
    "_Feature"
   ],
   "window_display": false
  }
 },
 "nbformat": 4,
 "nbformat_minor": 5
}
